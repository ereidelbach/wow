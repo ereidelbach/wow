{
 "cells": [
  {
   "cell_type": "markdown",
   "metadata": {},
   "source": [
    "# <center>Analysis of World of Warcraft Population Data</center>\n",
    "### <center>Data obtained from [realmpop.com](https://realmpop.com/)</center>\n",
    "\n",
    "This blog post uses names and images from World of Warcraft and data proprietary to World of Warcraft. World of Warcraft, Warcraft and Blizzard Entertainment are trademarks or registered trademarks of Blizzard Entertainment, Inc. in the U.S. and/or other countries."
   ]
  },
  {
   "cell_type": "markdown",
   "metadata": {},
   "source": [
    "Welcome back to the second in my series of notebooks detailing the analysis of World of Warcraft population data. In our first [notebook](https://github.com/ereidelbach/wow/blob/master/warcraft1_data_collection.ipynb) we walked through the process of obtaining the data. In this notebook, we're going to dive into the data, explore it, and reshape it to fit the format we want to simply any future analysis we want to run moving forward. \n",
    "\n",
    "Let the fun begin!"
   ]
  },
  {
   "cell_type": "markdown",
   "metadata": {},
   "source": [
    "## 1. Data Exploration\n",
    "\n",
    "In our last notebook, we did a brief dive into the data and discovered that it is heavily nested. Let's refresh ourselves with the actual structure of the data before we go any further."
   ]
  },
  {
   "cell_type": "code",
   "execution_count": 3,
   "metadata": {},
   "outputs": [],
   "source": [
    "# Import the necessary packages\n",
    "from bs4 import BeautifulSoup\n",
    "import json\n",
    "import os\n",
    "import pandas as pd\n",
    "import requests\n",
    "import time"
   ]
  },
  {
   "cell_type": "code",
   "execution_count": 8,
   "metadata": {},
   "outputs": [
    {
     "data": {
      "text/plain": [
       "['us-ysera_08-15-2018-15:46.json',\n",
       " 'us-ysondre_08-15-2018-15:46.json',\n",
       " 'us-zangarmarsh_08-15-2018-15:46.json',\n",
       " 'us-zuljin_08-15-2018-15:46.json',\n",
       " 'us-zuluhed_08-15-2018-15:46.json']"
      ]
     },
     "execution_count": 8,
     "metadata": {},
     "output_type": "execute_result"
    }
   ],
   "source": [
    "# create a list of all realm files in the US folder\n",
    "DIR = 'data/realms-us'\n",
    "list_realms_us = sorted([name for name in os.listdir(DIR) if os.path.isfile(os.path.join(DIR, name))])\n",
    "list_realms_us[-5:]"
   ]
  },
  {
   "cell_type": "markdown",
   "metadata": {},
   "source": [
    "My alliance characters just happen to be on Ysera so let's use that file for our initial analysis."
   ]
  },
  {
   "cell_type": "code",
   "execution_count": 10,
   "metadata": {},
   "outputs": [],
   "source": [
    "with open('data/realms-us/us-ysera_08-15-2018-15:46.json', 'r') as f:\n",
    "    json_ysera = json.load(f)"
   ]
  },
  {
   "cell_type": "markdown",
   "metadata": {},
   "source": [
    "As we said, the realm data is heavily nested so we'll save space (and memory) by avoiding outputting any of that data here.  However, the general structure of the realm data that we're interested in is as follows:\n",
    "> Characters\n",
    "> > Gender\n",
    "> > > Class\n",
    "> > > > Race\n",
    "> > > > > Level\n",
    "> > > > > > CharacterName"
   ]
  }
 ],
 "metadata": {
  "kernelspec": {
   "display_name": "Python 3",
   "language": "python",
   "name": "python3"
  },
  "language_info": {
   "codemirror_mode": {
    "name": "ipython",
    "version": 3
   },
   "file_extension": ".py",
   "mimetype": "text/x-python",
   "name": "python",
   "nbconvert_exporter": "python",
   "pygments_lexer": "ipython3",
   "version": "3.6.4"
  },
  "varInspector": {
   "cols": {
    "lenName": 16,
    "lenType": 16,
    "lenVar": 40
   },
   "kernels_config": {
    "python": {
     "delete_cmd_postfix": "",
     "delete_cmd_prefix": "del ",
     "library": "var_list.py",
     "varRefreshCmd": "print(var_dic_list())"
    },
    "r": {
     "delete_cmd_postfix": ") ",
     "delete_cmd_prefix": "rm(",
     "library": "var_list.r",
     "varRefreshCmd": "cat(var_dic_list()) "
    }
   },
   "types_to_exclude": [
    "module",
    "function",
    "builtin_function_or_method",
    "instance",
    "_Feature"
   ],
   "window_display": false
  }
 },
 "nbformat": 4,
 "nbformat_minor": 2
}
