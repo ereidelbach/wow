{
 "cells": [
  {
   "cell_type": "markdown",
   "metadata": {},
   "source": [
    "# <center>Analysis of World of Warcraft Population Data</center>\n",
    "### <center>Data obtained from [realmpop.com](https://realmpop.com/)</center>\n",
    "\n",
    "This blog post uses names and images from World of Warcraft and data proprietary to World of Warcraft. World of Warcraft, Warcraft and Blizzard Entertainment are trademarks or registered trademarks of Blizzard Entertainment, Inc. in the U.S. and/or other countries."
   ]
  },
  {
   "cell_type": "markdown",
   "metadata": {},
   "source": [
    "Welcome back to the second in my series of notebooks detailing the analysis of World of Warcraft population data. In our first [notebook](https://github.com/ereidelbach/wow/blob/master/warcraft1_data_collection.ipynb) we walked through the process of obtaining the data. In this notebook, we're going to dive into the data and reshape it to fit the format we want to simplify any future analysis we want to run moving forward. \n",
    "\n",
    "Let the fun begin!"
   ]
  },
  {
   "cell_type": "markdown",
   "metadata": {},
   "source": [
    "# 1. Data Format (Recap)\n",
    "\n",
    "In our last notebook, we did a brief dive into the data and discovered that it is heavily nested. Let's refresh ourselves with the actual structure of the data before we go any further."
   ]
  },
  {
   "cell_type": "code",
   "execution_count": 3,
   "metadata": {},
   "outputs": [],
   "source": [
    "# Import the necessary packages\n",
    "from bs4 import BeautifulSoup\n",
    "import json\n",
    "import os\n",
    "import pandas as pd\n",
    "import requests\n",
    "import time"
   ]
  },
  {
   "cell_type": "code",
   "execution_count": 8,
   "metadata": {},
   "outputs": [
    {
     "data": {
      "text/plain": [
       "['us-ysera_08-15-2018-15:46.json',\n",
       " 'us-ysondre_08-15-2018-15:46.json',\n",
       " 'us-zangarmarsh_08-15-2018-15:46.json',\n",
       " 'us-zuljin_08-15-2018-15:46.json',\n",
       " 'us-zuluhed_08-15-2018-15:46.json']"
      ]
     },
     "execution_count": 8,
     "metadata": {},
     "output_type": "execute_result"
    }
   ],
   "source": [
    "# create a list of all realm files in the US folder\n",
    "DIR = 'data/realms-us'\n",
    "list_realms_us = sorted([name for name in os.listdir(DIR) if os.path.isfile(os.path.join(DIR, name))])\n",
    "list_realms_us[-5:]"
   ]
  },
  {
   "cell_type": "markdown",
   "metadata": {},
   "source": [
    "My alliance characters just happen to be on Ysera so let's use that file for our initial analysis."
   ]
  },
  {
   "cell_type": "code",
   "execution_count": 10,
   "metadata": {},
   "outputs": [],
   "source": [
    "with open('data/realms-us/us-ysera_08-15-2018-15:46.json', 'r') as f:\n",
    "    json_ysera = json.load(f)"
   ]
  },
  {
   "cell_type": "markdown",
   "metadata": {},
   "source": [
    "As we said, the realm data is heavily nested so we'll save space (and memory) by avoiding outputting any of that data here.  However, the general structure of the realm data that we're interested in is as follows:\n",
    "> Characters\n",
    "> > Gender\n",
    "> > > Class\n",
    "> > > > Race\n",
    "> > > > > Level\n",
    "> > > > > > CharacterName"
   ]
  },
  {
   "cell_type": "markdown",
   "metadata": {},
   "source": [
    "# 2. Data Transformation\n",
    "\n",
    "That heavily nested format is less than ideal so why don't we get to work unraveling that format and working into a more traditional (i.e. Pandas DataFrame) format. My initial plan of attack will be to start working through the data, level by level via a series of 'for' loops. Once we reach the final level of the dictionary, we can then start adding the data to a Pands DataFrame. In essence, we're going to treat the deepest level of the dictionary (`CharacterName` as a single row in the DataFrame. The higher-level information above this row (i.e. `Gender`, `Class`, `Race`, `Level`) will become their own columns in the DataFrame and will included in each row.\n",
    "\n",
    "I don't expect this to be the most efficient method possible, but it will get us started with our analysis and we can always revise the efficiency aspect at a later point in time if it proves to be a significant issue."
   ]
  },
  {
   "cell_type": "code",
   "execution_count": 14,
   "metadata": {},
   "outputs": [],
   "source": [
    "# Extract the characters dictionary from the Ysera data as that's our focus (we only want player data)\n",
    "json_realm = json_ysera['characters']"
   ]
  },
  {
   "cell_type": "code",
   "execution_count": 16,
   "metadata": {},
   "outputs": [],
   "source": [
    "# create a dictionary for storing our transformed realm data\n",
    "dict_realm = {}\n",
    "\n",
    "# Loop through every sub-dictionary, within the dictionary until we get to the final level\n",
    "# Once there, create an entry in dict_realm using the character name as the key\n",
    "for gender_key, gender_value in json_realm.items():\n",
    "    # Handle `Class`\n",
    "    for class_key, class_value in gender_value.items():\n",
    "        # Handle `Race`\n",
    "        for race_key, race_value in class_value.items():\n",
    "            # Handle `Level`\n",
    "            for level_key, level_value in race_value.items():\n",
    "                # Handle `CharacterName` \n",
    "                for char in level_value:\n",
    "                    # Create dict entry for each character\n",
    "                    dict_realm[char] = {\n",
    "                            'gender':gender_key\n",
    "                            ,'class':class_key\n",
    "                            ,'race':race_key\n",
    "                            ,'level':level_key\n",
    "                            }"
   ]
  },
  {
   "cell_type": "markdown",
   "metadata": {},
   "source": [
    "Let's double check the formatting by slicing the newly created dictionary using itertools `islice` method to output the first 5 characters in our newly transformed dictionary."
   ]
  },
  {
   "cell_type": "code",
   "execution_count": 17,
   "metadata": {},
   "outputs": [
    {
     "data": {
      "text/plain": [
       "{'Veronika': {'class': 'Death Knight',\n",
       "  'gender': 'Female',\n",
       "  'level': '100',\n",
       "  'race': 'Blood Elf'},\n",
       " 'Veylia': {'class': 'Death Knight',\n",
       "  'gender': 'Female',\n",
       "  'level': '100',\n",
       "  'race': 'Blood Elf'},\n",
       " 'Vlána': {'class': 'Death Knight',\n",
       "  'gender': 'Female',\n",
       "  'level': '100',\n",
       "  'race': 'Blood Elf'},\n",
       " 'Vondutchy': {'class': 'Death Knight',\n",
       "  'gender': 'Female',\n",
       "  'level': '100',\n",
       "  'race': 'Blood Elf'},\n",
       " 'Vôrtex': {'class': 'Death Knight',\n",
       "  'gender': 'Female',\n",
       "  'level': '100',\n",
       "  'race': 'Blood Elf'}}"
      ]
     },
     "execution_count": 17,
     "metadata": {},
     "output_type": "execute_result"
    }
   ],
   "source": [
    "import itertools\n",
    "dict(itertools.islice(dict_realm.items(), 5))"
   ]
  },
  {
   "cell_type": "markdown",
   "metadata": {},
   "source": [
    "Perfect! To be on the safe side, let's check one more time using one of my characters.  As I'm very familiar with them, I know exactly what values to expect which will help double check my work.\n",
    "\n",
    "We'll look up data for my level 110 Pandaren Alliance Priest named Magoosh:"
   ]
  },
  {
   "cell_type": "code",
   "execution_count": 18,
   "metadata": {},
   "outputs": [
    {
     "data": {
      "text/plain": [
       "{'class': 'Priest', 'gender': 'Male', 'level': '110', 'race': 'PandarenA'}"
      ]
     },
     "execution_count": 18,
     "metadata": {},
     "output_type": "execute_result"
    }
   ],
   "source": [
    "dict_realm['Magoosh']"
   ]
  },
  {
   "cell_type": "markdown",
   "metadata": {},
   "source": [
    "Everything looks great so let's move on to the next step. (Note: Pandaren can be found on the Alliance or the Horde, hence the appearance of the \"A\" after the word Pandaren to indicate this in an alliance character).\n",
    "\n",
    "Now that I think of it, this data is missing the character's faction (Alliance or Horde).  Why don't we correct this by adding that variable to our data."
   ]
  },
  {
   "cell_type": "markdown",
   "metadata": {},
   "source": [
    "# 3. Feature Engineering\n",
    "\n",
    "In the newest expansion (as of 16 August, 2018), the following races belong to the Horde:\n",
    "- Blood Elf\n",
    "- Orc\n",
    "- Tauren\n",
    "- Undead\n",
    "- Troll\n",
    "- Goblin\n",
    "- PandarenH\n",
    "- Nightborne (Not included in RealmPop data)\n",
    "- Highmountain Tauren (Not included in RealmPop data)\n",
    "\n",
    "The following races belong to the Alliance:\n",
    "- Human\n",
    "- Night Elf\n",
    "- Draenei\n",
    "- Worgen\n",
    "- Dwarf\n",
    "- Gnome \n",
    "- PandarenA\n",
    "- Lightforged Draenei (Not included in RealmPop data)\n",
    "- Void Elf (Not included in RealmPop data)\n",
    "\n",
    "As Pandaren players don't officially choose their faction until they finish their first few hours of gameplay, it's possible they will not have an initial faction in the data which we will indicate as \"Unknown.\""
   ]
  },
  {
   "cell_type": "code",
   "execution_count": 19,
   "metadata": {},
   "outputs": [],
   "source": [
    "## Insert a player's faction into the data based on race\n",
    "\n",
    "# Create lists containing the races within each faction\n",
    "list_faction_horde = ['Blood Elf', 'Orc', 'Tauren', 'Undead', 'Troll', 'Goblin',\n",
    "              'PandarenH', 'Nightborne', 'Highmountain Tauren']\n",
    "list_faction_alliance = ['Human', 'Night Elf', 'Draenei', 'Worgen', 'Dwarf',\n",
    "                 'Gnome', 'PandarenA', 'Lightforged Draenei', 'Void Elf']\n",
    "\n",
    "# Insert the faction into each character's data\n",
    "for name, data in dict_realm.items():\n",
    "    if data['race'] in list_faction_horde:\n",
    "        data['faction'] = 'Horde'\n",
    "    elif data['race'] in list_faction_alliance:\n",
    "        data['faction'] = 'Alliance'\n",
    "    else:\n",
    "        data['faction'] = 'Unknown'\n",
    "    dict_realm[name] = data"
   ]
  },
  {
   "cell_type": "code",
   "execution_count": 22,
   "metadata": {},
   "outputs": [
    {
     "data": {
      "text/plain": [
       "{'class': 'Priest',\n",
       " 'faction': 'Alliance',\n",
       " 'gender': 'Male',\n",
       " 'level': '110',\n",
       " 'race': 'PandarenA'}"
      ]
     },
     "execution_count": 22,
     "metadata": {},
     "output_type": "execute_result"
    }
   ],
   "source": [
    "# Double check my character `Magoosh` to make sure it properly lists his faction as Alliance\n",
    "dict_realm['Magoosh']"
   ]
  },
  {
   "cell_type": "markdown",
   "metadata": {},
   "source": [
    "Another popular way to group characters in the World of Warcraft is based on the role they play in groups (DPS, Healer or Tank) as well as armor type (Cloth, Leather, Mail, or Plate). For the purposes of fleshing out this data set a little further, let's introduce both variables to the data.\n",
    "\n",
    "Unfortunately for role types, things are a little complicated. All classes can DPS, some classes can fufill two roles (i.e. a Shaman can DPS and Heal) and some have the capability to fill all three (i.e. a Druid can DPS, Heal and Tank). To counter this, we'll insert two binary variables that indicate whether a class is capable of fulfilling the specialized roles of healing or tanking. Since all classes can DPS, we'll assume they have this ability by default and thus, don't need to track it."
   ]
  },
  {
   "cell_type": "code",
   "execution_count": 23,
   "metadata": {},
   "outputs": [],
   "source": [
    "# Create a list for the healing and tanking roles that contains all classes capable of fulfilling those roles in a group\n",
    "list_role_heal = ['Druid', 'Monk', 'Paladin', 'Priest', 'Shaman']\n",
    "list_role_tank = ['Death Knight', 'Demon Hunter', 'Druid', 'Monk', 'Paladin', 'Warrior']\n",
    "\n",
    "for name, data in dict_realm.items():\n",
    "    if data['class'] in list_role_heal:\n",
    "        data['healer'] = 1\n",
    "    else:\n",
    "        data['healer'] = 0\n",
    "    \n",
    "    if data['class'] in list_role_tank:\n",
    "        data['tank'] = 1\n",
    "    else:\n",
    "        data['tank'] = 0\n",
    "    dict_realm[name] = data"
   ]
  },
  {
   "cell_type": "code",
   "execution_count": 24,
   "metadata": {},
   "outputs": [
    {
     "data": {
      "text/plain": [
       "{'class': 'Priest',\n",
       " 'faction': 'Alliance',\n",
       " 'gender': 'Male',\n",
       " 'healer': 1,\n",
       " 'level': '110',\n",
       " 'race': 'PandarenA',\n",
       " 'tank': 0}"
      ]
     },
     "execution_count": 24,
     "metadata": {},
     "output_type": "execute_result"
    }
   ],
   "source": [
    "# Double check my character `Magoosh` to make sure it properly lists his Tank role as a 0 and his Healer role as a 1\n",
    "dict_realm['Magoosh']"
   ]
  },
  {
   "cell_type": "markdown",
   "metadata": {},
   "source": [
    "# 4. Function Creation\n",
    "\n",
    "The code that we've created above can be combined and functionalized so that we can replicate this process for every server, not just Ysera. Let's go ahead and do that now so that we can examine all servers moving forward."
   ]
  },
  {
   "cell_type": "code",
   "execution_count": 29,
   "metadata": {},
   "outputs": [],
   "source": [
    "# Create lists containing the races within each faction\n",
    "list_horde = ['Blood Elf', 'Orc', 'Tauren', 'Undead', 'Troll', 'Goblin',\n",
    "              'PandarenH', 'Nightborne', 'Highmountain Tauren']\n",
    "list_alliance = ['Human', 'Night Elf', 'Draenei', 'Worgen', 'Dwarf',\n",
    "                 'Gnome', 'PandarenA', 'Lightforged Draenei', 'Void Elf']\n",
    "\n",
    "# Create a list for classes that can fulfill the healing and tanking roles in groups\n",
    "list_role_heal = ['Druid', 'Monk', 'Paladin', 'Priest', 'Shaman']\n",
    "list_role_tank = ['Death Knight', 'Demon Hunter', 'Druid', 'Monk', 'Paladin', 'Warrior']\n",
    "\n",
    "'''\n",
    "    This function will ingest realm data, flatten it, and add data for a \n",
    "    character's faction and role types (i.e. healer and/or tank).\n",
    "    \n",
    "    Input:  realm_data (dictionary) - Original, nested realm data\n",
    "    Output: dict_realm (dictionary) - Flattened realm data with new variables\n",
    "'''\n",
    "def transform_realm(realm_data):\n",
    "    # Create a new dictionary for storing flattened data\n",
    "    dict_realm = {}\n",
    "    # Handle `Gender`\n",
    "    for gender_key, gender_value in realm_data['characters'].items():\n",
    "        # Handle `Class`\n",
    "        for class_key, class_value in gender_value.items():\n",
    "            # Handle `Race`\n",
    "            for race_key, race_value in class_value.items():\n",
    "                # Handle `Level`\n",
    "                for level_key, level_value in race_value.items():\n",
    "                    # Handle `CharacterName` \n",
    "                    for char in level_value:\n",
    "                        # Create dict entry for each character\n",
    "                        dict_char = {\n",
    "                                'gender':gender_key\n",
    "                                ,'class':class_key\n",
    "                                ,'race':race_key\n",
    "                                ,'level':level_key\n",
    "                                }\n",
    "                        \n",
    "                        # Insert the faction into each character's data\n",
    "                        if dict_char['race'] in list_horde:\n",
    "                            dict_char['faction'] = 'Horde'\n",
    "                        elif dict_char['race'] in list_alliance:\n",
    "                            dict_char['faction'] = 'Alliance'\n",
    "                        else:\n",
    "                            dict_char['faction'] = 'Unknown'\n",
    "                        \n",
    "                        # Insert the Healer role into each character's data\n",
    "                        if dict_char['class'] in list_role_heal:\n",
    "                            dict_char['healer'] = 1\n",
    "                        else:\n",
    "                            dict_char['healer'] = 0\n",
    "\n",
    "                        # Insert the Tank role into each character's data\n",
    "                        if dict_char['class'] in list_role_tank:\n",
    "                            dict_char['tank'] = 1\n",
    "                        else:\n",
    "                            dict_char['tank'] = 0                        \n",
    "                        \n",
    "                        # Insert the character into the realm dictionary\n",
    "                        dict_realm[char] = dict_char\n",
    "    return dict_realm"
   ]
  },
  {
   "cell_type": "code",
   "execution_count": 30,
   "metadata": {},
   "outputs": [],
   "source": [
    "dict_ysera = transform_realm(json_ysera)"
   ]
  },
  {
   "cell_type": "code",
   "execution_count": 31,
   "metadata": {},
   "outputs": [
    {
     "data": {
      "text/plain": [
       "{'class': 'Priest',\n",
       " 'faction': 'Alliance',\n",
       " 'gender': 'Male',\n",
       " 'healer': 1,\n",
       " 'level': '110',\n",
       " 'race': 'PandarenA',\n",
       " 'tank': 0}"
      ]
     },
     "execution_count": 31,
     "metadata": {},
     "output_type": "execute_result"
    }
   ],
   "source": [
    "# Double check my character `Magoosh` to make sure the function operates properly\n",
    "dict_ysera['Magoosh']"
   ]
  },
  {
   "cell_type": "markdown",
   "metadata": {},
   "source": [
    "**Success!**\n",
    "\n",
    "With our function working properly, we are now capable of flattening data for any (or all) realm(s) that we're interested in analyzing. In our next notebook, we'll begin that process of uncoverning the secrets that lie inside the World of Warcraft player population.\n",
    "\n",
    "Until next time...\n",
    "\n",
    "<img src=\"https://image-cdn.neatoshop.com/styleimg/47191/none/black/default/310622-19;1466158386i.jpg\" height='300' width='300'/>"
   ]
  }
 ],
 "metadata": {
  "kernelspec": {
   "display_name": "Python 3",
   "language": "python",
   "name": "python3"
  },
  "language_info": {
   "codemirror_mode": {
    "name": "ipython",
    "version": 3
   },
   "file_extension": ".py",
   "mimetype": "text/x-python",
   "name": "python",
   "nbconvert_exporter": "python",
   "pygments_lexer": "ipython3",
   "version": "3.6.4"
  },
  "varInspector": {
   "cols": {
    "lenName": 16,
    "lenType": 16,
    "lenVar": 40
   },
   "kernels_config": {
    "python": {
     "delete_cmd_postfix": "",
     "delete_cmd_prefix": "del ",
     "library": "var_list.py",
     "varRefreshCmd": "print(var_dic_list())"
    },
    "r": {
     "delete_cmd_postfix": ") ",
     "delete_cmd_prefix": "rm(",
     "library": "var_list.r",
     "varRefreshCmd": "cat(var_dic_list()) "
    }
   },
   "types_to_exclude": [
    "module",
    "function",
    "builtin_function_or_method",
    "instance",
    "_Feature"
   ],
   "window_display": true
  }
 },
 "nbformat": 4,
 "nbformat_minor": 2
}
