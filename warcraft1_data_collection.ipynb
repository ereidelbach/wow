{
 "cells": [
  {
   "cell_type": "markdown",
   "metadata": {},
   "source": [
    "# <center>Analysis of World of Warcraft Population Data</center>\n",
    "### <center>Data obtained from [realmpop.com](https://realmpop.com/)</center>\n",
    "\n",
    "This blog post uses names and images from World of Warcraft and data proprietary to World of Warcraft. World of Warcraft, Warcraft and Blizzard Entertainment are trademarks or registered trademarks of Blizzard Entertainment, Inc. in the U.S. and/or other countries."
   ]
  },
  {
   "cell_type": "markdown",
   "metadata": {},
   "source": [
    "With the recent launch of World of Warcraft's (WoW) 7th expansion on August 13th, 2018, I personally witnessed a large number of friends returning to Azeroth. While it's been wonderful to see my chat window once again filled with the comforting green text of guild chat, this influx of players caused my mind to drift toward the ramifications for WoW's player base as a whole. \n",
    "\n",
    "Several years ago Blizzard made the decision to no longer report overall player subscription numbers as part of their quarterly earning reports. Since that time, investors and players alike have been in the dark concerning the overall player trends. Fortunately, the intrepid folks at [https://realmpop.com](Realm Pop) have done their best to keep shining a light on the WoW player population. \n",
    "\n",
    "Their methods are rather simple, as detailed on their website. In summary, the Realm Pop team records character information for every realm in the US and EU regions by identifying character who post on the auction house, then fetching that person's guild roster, and then recording all players in that guild.  Thus, the final recording includes a count of all characters who belong to a guild in which a member has posted an auction. It is expected that this will cover the vast majority of characters, but certainly not all as some players may not utilize the auction house or belong to a guild.  It's also important to note that these numbers are reflective of individual characters and not individual accounts (i.e. a single account may have several characters) nor are they reflective of active accounts/characters (i.e. accounts with an active subscription or characters that are actively played).\n",
    "\n",
    "As this information is updated once a week, I will aspire to maintain that update frequency with this blog to identify trends and/or significant changes in the data."
   ]
  },
  {
   "cell_type": "markdown",
   "metadata": {},
   "source": [
    "## 1. Data Collection\n",
    "While Realm Pop collects its data from the Battle.net API, we'll keep things simple and simply collect the data that Realm Pop has stored for each realm. While that sounds simple in principle, we first need to understand how exactly the data is currently being stored on the site.\n",
    "\n",
    "Making use of Chrome's \"Inspect\" devtool, we dig through both the US and the EU pages and discover that two JSON files exist for each region:  a traditional realm-by-realm JSON and a separate JSON for connected-realms. \n",
    "* Note: For those of you unfamiliar with the \"Inspect\" tool or curious about how to find the data powering a website, please refer to this hand tutorial from the [Online Journalism Blog](https://onlinejournalismblog.com/2017/05/10/how-to-find-data-behind-chart-map-using-inspector/).\n",
    "\n",
    "To be on the safe side, we'll go ahead and download both JSONs for each region to ensure we have all the data possible. While I plan to start analyzing data on a realm-by-realm basis, the fact that a large number of realms are now connected to each other means that my analysis may inevitable shift in that direction.\n",
    "\n",
    "Having identified the data we want, let's go and get it."
   ]
  },
  {
   "cell_type": "code",
   "execution_count": 75,
   "metadata": {},
   "outputs": [],
   "source": [
    "# Import the necessary packages\n",
    "from bs4 import BeautifulSoup\n",
    "import json\n",
    "import os\n",
    "import pandas as pd\n",
    "import requests\n",
    "import time"
   ]
  },
  {
   "cell_type": "code",
   "execution_count": 25,
   "metadata": {},
   "outputs": [],
   "source": [
    "### Collect the realm data for each region (US and EU) and the information for all connected realms across both regions\n",
    "\n",
    "# Make the request to the website and soupify the data\n",
    "realms_eu = json.loads(requests.get('https://realmpop.com/eu.json').text)\n",
    "realms_us = json.loads(requests.get('https://realmpop.com/us.json').text)\n",
    "realms_connected = json.loads(requests.get('https://realmpop.com/connected-realms.json').text)"
   ]
  },
  {
   "cell_type": "code",
   "execution_count": 28,
   "metadata": {},
   "outputs": [],
   "source": [
    "### Save these files to our local project folder for safe keeping\n",
    "# EU Realms\n",
    "with open('data/realms_eu.json', 'wt') as out:\n",
    "    json.dump(realms_eu, out, sort_keys = True)\n",
    "    \n",
    "# US Realms\n",
    "with open('data/realms_us.json', 'wt') as out:\n",
    "    json.dump(realms_us, out, sort_keys = True)\n",
    "\n",
    "# Connected Realms\n",
    "with open('data/realms_connected.json', 'wt') as out:\n",
    "    json.dump(realms_connected, out, sort_keys = True)\n",
    "    # pretty print version\n",
    "    #json.dump(file, out, sort_keys=True, indent=4, separators=(',', ': '))"
   ]
  },
  {
   "cell_type": "markdown",
   "metadata": {},
   "source": [
    "Now that we some data, let's see what's hidden inside each of these JSON files."
   ]
  },
  {
   "cell_type": "code",
   "execution_count": 30,
   "metadata": {},
   "outputs": [
    {
     "data": {
      "text/plain": [
       "dict_keys(['realms', 'demographics'])"
      ]
     },
     "execution_count": 30,
     "metadata": {},
     "output_type": "execute_result"
    }
   ],
   "source": [
    "realms_eu.keys()"
   ]
  },
  {
   "cell_type": "markdown",
   "metadata": {},
   "source": [
    "Let's dig into to the realm data a little further."
   ]
  },
  {
   "cell_type": "code",
   "execution_count": 37,
   "metadata": {},
   "outputs": [
    {
     "data": {
      "text/plain": [
       "[('aegwynn',\n",
       "  {'counts': {'Alliance': 477283,\n",
       "    'Horde': 24287,\n",
       "    'Neutral': 6,\n",
       "    'Unknown': 4732},\n",
       "   'name': 'Aegwynn',\n",
       "   'stats': {'pvp': 'PvP',\n",
       "    'region': 'German',\n",
       "    'rp': 'Normal',\n",
       "    'timezone': 'Europe/Paris'}}),\n",
       " ('aerie-peak',\n",
       "  {'counts': {'Alliance': 94887, 'Horde': 40402, 'Neutral': 3, 'Unknown': 955},\n",
       "   'name': 'Aerie Peak',\n",
       "   'stats': {'pvp': 'PvE',\n",
       "    'region': 'English',\n",
       "    'rp': 'Normal',\n",
       "    'timezone': 'Europe/Paris'}})]"
      ]
     },
     "execution_count": 37,
     "metadata": {},
     "output_type": "execute_result"
    }
   ],
   "source": [
    "list(realms_eu['realms'].items())[0:2]"
   ]
  },
  {
   "cell_type": "markdown",
   "metadata": {},
   "source": [
    "The demographics portion of the realm data is much more robust (and nested) so we'll save space (and memory) by not outputting any of that data here.  However, the general structure of the data is as follows:\n",
    "> Region\n",
    "> > PvE or PvP\n",
    "> > > Normal or RP\n",
    "> > > > Country \n",
    "> > > > > Time Zone \n",
    "> > > > > > Gender\n",
    "> > > > > > > Class\n",
    "> > > > > > > > Race\n",
    "> > > > > > > > > Level\n",
    "> > > > > > > > > > PlayerCount"
   ]
  },
  {
   "cell_type": "markdown",
   "metadata": {},
   "source": [
    "To enable a detailed collection of all realm data, we need to isolate the name of every realm and then query the realmpop site to obtain the JSON file (format: server.json)."
   ]
  },
  {
   "cell_type": "code",
   "execution_count": 46,
   "metadata": {},
   "outputs": [],
   "source": [
    "## Extract a complete realm list for both regions\n",
    "list_realms_eu = ['eu-' + realm for realm in list(realms_eu['realms'].keys())]\n",
    "list_realms_us = ['us-' + realm for realm in list(realms_us['realms'].keys())]\n",
    "\n",
    "## Extract a complete list of connected realms for both regions\n",
    "# Simplify the connected realms such that there is only one listing per realm\n",
    "list_connected_eu = []\n",
    "list_connected_us = []\n",
    "\n",
    "for key, value in realms_connected.items():\n",
    "    # handle EU realms\n",
    "    if key.startswith('eu-'):\n",
    "        temp_list = [key] + value\n",
    "        temp_list.sort()\n",
    "        if temp_list not in list_connected_eu:\n",
    "            list_connected_eu.append(temp_list)\n",
    "    # handle US realms    \n",
    "    else:\n",
    "        temp_list = [key] + value\n",
    "        temp_list.sort()\n",
    "        if temp_list not in list_connected_us:\n",
    "            list_connected_us.append(temp_list)"
   ]
  },
  {
   "cell_type": "markdown",
   "metadata": {},
   "source": [
    "Let's double-check that our code script worked."
   ]
  },
  {
   "cell_type": "code",
   "execution_count": 50,
   "metadata": {},
   "outputs": [
    {
     "data": {
      "text/plain": [
       "['eu-aegwynn',\n",
       " 'eu-aerie-peak',\n",
       " 'eu-agamaggan',\n",
       " 'eu-aggra-portugues',\n",
       " 'eu-aggramar']"
      ]
     },
     "execution_count": 50,
     "metadata": {},
     "output_type": "execute_result"
    }
   ],
   "source": [
    "list_realms_eu[0:5]"
   ]
  },
  {
   "cell_type": "code",
   "execution_count": 51,
   "metadata": {},
   "outputs": [
    {
     "data": {
      "text/plain": [
       "['us-aegwynn', 'us-aerie-peak', 'us-agamaggan', 'us-aggramar', 'us-akama']"
      ]
     },
     "execution_count": 51,
     "metadata": {},
     "output_type": "execute_result"
    }
   ],
   "source": [
    "list_realms_us[0:5]"
   ]
  },
  {
   "cell_type": "code",
   "execution_count": 52,
   "metadata": {},
   "outputs": [
    {
     "data": {
      "text/plain": [
       "[['eu-aerie-peak', 'eu-bronzebeard'],\n",
       " ['eu-agamaggan',\n",
       "  'eu-bloodscalp',\n",
       "  'eu-crushridge',\n",
       "  'eu-emeriss',\n",
       "  'eu-hakkar',\n",
       "  'eu-twilights-hammer'],\n",
       " ['eu-aggra-portugues', 'eu-grim-batol'],\n",
       " ['eu-aggramar', 'eu-hellscream'],\n",
       " ['eu-ahnqiraj',\n",
       "  'eu-balnazzar',\n",
       "  'eu-boulderfist',\n",
       "  'eu-chromaggus',\n",
       "  'eu-daggerspine',\n",
       "  'eu-laughing-skull',\n",
       "  'eu-shattered-halls',\n",
       "  'eu-sunstrider',\n",
       "  'eu-talnivarr',\n",
       "  'eu-trollbane']]"
      ]
     },
     "execution_count": 52,
     "metadata": {},
     "output_type": "execute_result"
    }
   ],
   "source": [
    "list_connected_eu[0:5]"
   ]
  },
  {
   "cell_type": "code",
   "execution_count": 53,
   "metadata": {},
   "outputs": [
    {
     "data": {
      "text/plain": [
       "[['us-aegwynn',\n",
       "  'us-bonechewer',\n",
       "  'us-daggerspine',\n",
       "  'us-gurubashi',\n",
       "  'us-hakkar'],\n",
       " ['us-agamaggan',\n",
       "  'us-archimonde',\n",
       "  'us-burning-legion',\n",
       "  'us-jaedenar',\n",
       "  'us-the-underbog'],\n",
       " ['us-aggramar', 'us-fizzcrank'],\n",
       " ['us-akama', 'us-dragonmaw', 'us-mugthol'],\n",
       " ['us-alexstrasza', 'us-terokkar']]"
      ]
     },
     "execution_count": 53,
     "metadata": {},
     "output_type": "execute_result"
    }
   ],
   "source": [
    "list_connected_us[0:5]"
   ]
  },
  {
   "cell_type": "markdown",
   "metadata": {},
   "source": [
    "Everything looks great!\n",
    "\n",
    "Now that we have finalized realm lists for each region, let's go ahead and acquire the data for each realm.  "
   ]
  },
  {
   "cell_type": "code",
   "execution_count": 72,
   "metadata": {},
   "outputs": [],
   "source": [
    "# Iterate through every US realm\n",
    "for realm in list_realms_us:\n",
    "    # Define the URL and request the JSON\n",
    "    realm_url = 'https://realmpop.com/' + str(realm) + '.json'\n",
    "    realm_json = json.loads(requests.get(realm_url).text)\n",
    "    # Define the filename and write the JSON to a local file with a timestamp\n",
    "    fname = 'data/realms-us/' + realm + '_' + str(time.strftime(\"%m-%d-%Y-%H:%M\")) + '.json'\n",
    "    with open(fname, 'wt') as out:\n",
    "        json.dump(realm_json, out, sort_keys = True)"
   ]
  },
  {
   "cell_type": "code",
   "execution_count": 71,
   "metadata": {},
   "outputs": [],
   "source": [
    "# Iterate through every EU realm\n",
    "for realm in list_realms_eu:\n",
    "    # Define the URL and request the JSON\n",
    "    realm_url = 'https://realmpop.com/' + str(realm) + '.json'\n",
    "    realm_json = json.loads(requests.get(realm_url).text)\n",
    "    # Define the filename and write the JSON to a local file with a timestamp\n",
    "    fname = 'data/realms-eu/' + realm + '_' + str(time.strftime(\"%m-%d-%Y-%H:%M\")) + '.json'\n",
    "    with open(fname, 'wt') as out:\n",
    "        json.dump(realm_json, out, sort_keys = True)"
   ]
  },
  {
   "cell_type": "markdown",
   "metadata": {},
   "source": [
    "Let's finish things up my quickly counting the number of JSON files we've retrieved for both the US and EU regions.  The counts should match the size of our region lists, so let's get to it!"
   ]
  },
  {
   "cell_type": "code",
   "execution_count": 95,
   "metadata": {},
   "outputs": [
    {
     "data": {
      "text/plain": [
       "True"
      ]
     },
     "execution_count": 95,
     "metadata": {},
     "output_type": "execute_result"
    }
   ],
   "source": [
    "# Check EU Realms\n",
    "DIR = 'data/realms-eu'\n",
    "len(list_realms_eu) == len([name for name in os.listdir(DIR) if os.path.isfile(os.path.join(DIR, name))])"
   ]
  },
  {
   "cell_type": "code",
   "execution_count": 96,
   "metadata": {},
   "outputs": [
    {
     "data": {
      "text/plain": [
       "True"
      ]
     },
     "execution_count": 96,
     "metadata": {},
     "output_type": "execute_result"
    }
   ],
   "source": [
    "# Check US Realms\n",
    "DIR = 'data/realms-us'\n",
    "len(list_realms_us) == len([name for name in os.listdir(DIR) if os.path.isfile(os.path.join(DIR, name))])"
   ]
  },
  {
   "cell_type": "markdown",
   "metadata": {},
   "source": [
    "Perfect, we now have data for all 247 US realms and 269 EU realms to go along with a complete list of all combined realms in both regions. This will set us up perfectly for our next notebook when we start exploring the data in more detail. Stay tuned!\n",
    "\n",
    "<img src=\"https://image-cdn.neatoshop.com/styleimg/47191/none/black/default/310622-19;1466158386i.jpg\" height='300' width='300'/>"
   ]
  }
 ],
 "metadata": {
  "kernelspec": {
   "display_name": "Python 3",
   "language": "python",
   "name": "python3"
  },
  "language_info": {
   "codemirror_mode": {
    "name": "ipython",
    "version": 3
   },
   "file_extension": ".py",
   "mimetype": "text/x-python",
   "name": "python",
   "nbconvert_exporter": "python",
   "pygments_lexer": "ipython3",
   "version": "3.6.4"
  },
  "varInspector": {
   "cols": {
    "lenName": 16,
    "lenType": 16,
    "lenVar": 40
   },
   "kernels_config": {
    "python": {
     "delete_cmd_postfix": "",
     "delete_cmd_prefix": "del ",
     "library": "var_list.py",
     "varRefreshCmd": "print(var_dic_list())"
    },
    "r": {
     "delete_cmd_postfix": ") ",
     "delete_cmd_prefix": "rm(",
     "library": "var_list.r",
     "varRefreshCmd": "cat(var_dic_list()) "
    }
   },
   "position": {
    "height": "145px",
    "left": "1010px",
    "right": "19px",
    "top": "119px",
    "width": "350px"
   },
   "types_to_exclude": [
    "module",
    "function",
    "builtin_function_or_method",
    "instance",
    "_Feature"
   ],
   "window_display": true
  }
 },
 "nbformat": 4,
 "nbformat_minor": 2
}
