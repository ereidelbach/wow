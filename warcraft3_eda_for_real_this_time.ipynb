{
 "cells": [
  {
   "cell_type": "markdown",
   "metadata": {},
   "source": [
    "# <center>Analysis of World of Warcraft Population Data</center>\n",
    "## <center>Part Three: Exploratory Data Analysis (EDA)</center>\n",
    "### <center>Data obtained from [realmpop.com](https://realmpop.com/)</center>\n",
    "\n",
    "This blog post uses names and images from World of Warcraft and data proprietary to World of Warcraft. World of Warcraft, Warcraft and Blizzard Entertainment are trademarks or registered trademarks of Blizzard Entertainment, Inc. in the U.S. and/or other countries."
   ]
  },
  {
   "cell_type": "markdown",
   "metadata": {},
   "source": [
    "Welcome back to the third in my series of notebooks detailing the analysis of World of Warcraft poulation data from [Realm Pop](https://realmpop.com). In the previous entries in our series ([Part One](https://github.com/ereidelbach/wow/blob/master/warcraft1_data_collection.ipynb) and [Part Two](https://github.com/ereidelbach/wow/blob/master/warcraft2_exploratory_data_analysis.ipynb)) we collected the data for every realm, transformed it into a flattened structure, and engineered a few features we thought might be useful in our analysis.\n",
    "\n",
    "With all those steps complete, we're now ready to begin the fun process of uncovering the insights that are buried within the data. Let's begin!\n",
    "\n",
    "(Note: Almost all of these statistics are already available in the higher-level realm data we obtained in ([Part One](https://github.com/ereidelbach/wow/blob/master/warcraft1_data_collection.ipynb) with the exception of the Name analysis. However, we're going to forge ahead with our own analysis to verify the integrity of that data when compared with the realm-level data)"
   ]
  },
  {
   "cell_type": "markdown",
   "metadata": {},
   "source": [
    "# 1. Data Ingest"
   ]
  },
  {
   "cell_type": "code",
   "execution_count": 13,
   "metadata": {},
   "outputs": [],
   "source": [
    "# Import the necessary packages\n",
    "import altair as alt\n",
    "import json\n",
    "import pandas as pd\n",
    "\n",
    "# Enable Altair in the notebook\n",
    "alt.renderers.enable('notebook')\n",
    "\n",
    "# Remove the Altair limit on plotting a maximum of 5000 rows of data\n",
    "alt.data_transformers.enable('default', max_rows=None)\n",
    "\n",
    "# Load the data for Ysera\n",
    "with open('data/realms-us/us-ysera_08-15-2018-15:46_flattened.json', 'r') as f:\n",
    "    df_ysera = pd.DataFrame.from_dict(json.load(f), orient='index')"
   ]
  },
  {
   "cell_type": "code",
   "execution_count": 14,
   "metadata": {},
   "outputs": [
    {
     "data": {
      "text/html": [
       "<div>\n",
       "<style scoped>\n",
       "    .dataframe tbody tr th:only-of-type {\n",
       "        vertical-align: middle;\n",
       "    }\n",
       "\n",
       "    .dataframe tbody tr th {\n",
       "        vertical-align: top;\n",
       "    }\n",
       "\n",
       "    .dataframe thead th {\n",
       "        text-align: right;\n",
       "    }\n",
       "</style>\n",
       "<table border=\"1\" class=\"dataframe\">\n",
       "  <thead>\n",
       "    <tr style=\"text-align: right;\">\n",
       "      <th></th>\n",
       "      <th>class</th>\n",
       "      <th>faction</th>\n",
       "      <th>gender</th>\n",
       "      <th>healer</th>\n",
       "      <th>level</th>\n",
       "      <th>race</th>\n",
       "      <th>realm</th>\n",
       "      <th>tank</th>\n",
       "    </tr>\n",
       "  </thead>\n",
       "  <tbody>\n",
       "    <tr>\n",
       "      <th>AabankD07267</th>\n",
       "      <td>Rogue</td>\n",
       "      <td>Horde</td>\n",
       "      <td>Male</td>\n",
       "      <td>0</td>\n",
       "      <td>1</td>\n",
       "      <td>Undead</td>\n",
       "      <td>ysera</td>\n",
       "      <td>0</td>\n",
       "    </tr>\n",
       "    <tr>\n",
       "      <th>Aabankman</th>\n",
       "      <td>Warrior</td>\n",
       "      <td>Alliance</td>\n",
       "      <td>Male</td>\n",
       "      <td>0</td>\n",
       "      <td>22</td>\n",
       "      <td>Dwarf</td>\n",
       "      <td>ysera</td>\n",
       "      <td>1</td>\n",
       "    </tr>\n",
       "    <tr>\n",
       "      <th>Aabbee</th>\n",
       "      <td>Priest</td>\n",
       "      <td>Alliance</td>\n",
       "      <td>Female</td>\n",
       "      <td>1</td>\n",
       "      <td>1</td>\n",
       "      <td>Human</td>\n",
       "      <td>ysera</td>\n",
       "      <td>0</td>\n",
       "    </tr>\n",
       "    <tr>\n",
       "      <th>Aabbyy</th>\n",
       "      <td>Hunter</td>\n",
       "      <td>Horde</td>\n",
       "      <td>Female</td>\n",
       "      <td>0</td>\n",
       "      <td>36</td>\n",
       "      <td>Goblin</td>\n",
       "      <td>ysera</td>\n",
       "      <td>0</td>\n",
       "    </tr>\n",
       "    <tr>\n",
       "      <th>Aabf</th>\n",
       "      <td>Priest</td>\n",
       "      <td>Alliance</td>\n",
       "      <td>Female</td>\n",
       "      <td>1</td>\n",
       "      <td>1</td>\n",
       "      <td>Human</td>\n",
       "      <td>ysera</td>\n",
       "      <td>0</td>\n",
       "    </tr>\n",
       "  </tbody>\n",
       "</table>\n",
       "</div>"
      ],
      "text/plain": [
       "                class   faction  gender  healer level    race  realm  tank\n",
       "AabankD07267    Rogue     Horde    Male       0     1  Undead  ysera     0\n",
       "Aabankman     Warrior  Alliance    Male       0    22   Dwarf  ysera     1\n",
       "Aabbee         Priest  Alliance  Female       1     1   Human  ysera     0\n",
       "Aabbyy         Hunter     Horde  Female       0    36  Goblin  ysera     0\n",
       "Aabf           Priest  Alliance  Female       1     1   Human  ysera     0"
      ]
     },
     "execution_count": 14,
     "metadata": {},
     "output_type": "execute_result"
    }
   ],
   "source": [
    "df_ysera.head()"
   ]
  },
  {
   "cell_type": "markdown",
   "metadata": {},
   "source": [
    "# 2. Realm Data Analysis"
   ]
  },
  {
   "cell_type": "markdown",
   "metadata": {},
   "source": [
    "### A. Question: Does one faction struggle getting to level 110 or above more than another?\n",
    "\n",
    "To begin, let's start by grouping characters by faction and then analyzing the breakdown of player levels within those groups."
   ]
  },
  {
   "cell_type": "code",
   "execution_count": 54,
   "metadata": {},
   "outputs": [
    {
     "data": {
      "text/html": [
       "<div>\n",
       "<style scoped>\n",
       "    .dataframe tbody tr th:only-of-type {\n",
       "        vertical-align: middle;\n",
       "    }\n",
       "\n",
       "    .dataframe tbody tr th {\n",
       "        vertical-align: top;\n",
       "    }\n",
       "\n",
       "    .dataframe thead th {\n",
       "        text-align: right;\n",
       "    }\n",
       "</style>\n",
       "<table border=\"1\" class=\"dataframe\">\n",
       "  <thead>\n",
       "    <tr style=\"text-align: right;\">\n",
       "      <th></th>\n",
       "      <th>class</th>\n",
       "      <th>faction</th>\n",
       "      <th>gender</th>\n",
       "      <th>healer</th>\n",
       "      <th>race</th>\n",
       "      <th>realm</th>\n",
       "      <th>tank</th>\n",
       "    </tr>\n",
       "    <tr>\n",
       "      <th>level</th>\n",
       "      <th></th>\n",
       "      <th></th>\n",
       "      <th></th>\n",
       "      <th></th>\n",
       "      <th></th>\n",
       "      <th></th>\n",
       "      <th></th>\n",
       "    </tr>\n",
       "  </thead>\n",
       "  <tbody>\n",
       "    <tr>\n",
       "      <th>1</th>\n",
       "      <td>1985</td>\n",
       "      <td>1985</td>\n",
       "      <td>1985</td>\n",
       "      <td>1985</td>\n",
       "      <td>1985</td>\n",
       "      <td>1985</td>\n",
       "      <td>1985</td>\n",
       "    </tr>\n",
       "    <tr>\n",
       "      <th>10</th>\n",
       "      <td>1124</td>\n",
       "      <td>1124</td>\n",
       "      <td>1124</td>\n",
       "      <td>1124</td>\n",
       "      <td>1124</td>\n",
       "      <td>1124</td>\n",
       "      <td>1124</td>\n",
       "    </tr>\n",
       "    <tr>\n",
       "      <th>100</th>\n",
       "      <td>15195</td>\n",
       "      <td>15195</td>\n",
       "      <td>15195</td>\n",
       "      <td>15195</td>\n",
       "      <td>15195</td>\n",
       "      <td>15195</td>\n",
       "      <td>15195</td>\n",
       "    </tr>\n",
       "    <tr>\n",
       "      <th>101</th>\n",
       "      <td>1512</td>\n",
       "      <td>1512</td>\n",
       "      <td>1512</td>\n",
       "      <td>1512</td>\n",
       "      <td>1512</td>\n",
       "      <td>1512</td>\n",
       "      <td>1512</td>\n",
       "    </tr>\n",
       "    <tr>\n",
       "      <th>102</th>\n",
       "      <td>1063</td>\n",
       "      <td>1063</td>\n",
       "      <td>1063</td>\n",
       "      <td>1063</td>\n",
       "      <td>1063</td>\n",
       "      <td>1063</td>\n",
       "      <td>1063</td>\n",
       "    </tr>\n",
       "  </tbody>\n",
       "</table>\n",
       "</div>"
      ],
      "text/plain": [
       "       class  faction  gender  healer   race  realm   tank\n",
       "level                                                     \n",
       "1       1985     1985    1985    1985   1985   1985   1985\n",
       "10      1124     1124    1124    1124   1124   1124   1124\n",
       "100    15195    15195   15195   15195  15195  15195  15195\n",
       "101     1512     1512    1512    1512   1512   1512   1512\n",
       "102     1063     1063    1063    1063   1063   1063   1063"
      ]
     },
     "execution_count": 54,
     "metadata": {},
     "output_type": "execute_result"
    }
   ],
   "source": [
    "# Enable in-line plotting of charts\n",
    "%matplotlib inline\n",
    "#df_ysera.groupby('faction')['level'].count()\n",
    "groupby_faction = df_ysera[df_ysera['faction'] == 'Alliance'].groupby('level').count()\n",
    "groupby_faction.index = groupby_faction.index.map(int)\n",
    "groupby_faction.sort_index()\n",
    "#df_ysera.groupby(['faction','level']).size().reset_index().groupby('level')[[0]].max()\n",
    "#groupby_faction = df_ysera.groupby(['faction','level']).count()\n",
    "#groupby_faction = df_ysera.groupby('level')['faction'].count()\n",
    "#print(groupby_faction)\n",
    "groupby_faction.head()"
   ]
  },
  {
   "cell_type": "code",
   "execution_count": 10,
   "metadata": {},
   "outputs": [],
   "source": [
    "# Altair plot of player counts by faction\n",
    "# alt.Chart(df_ysera).mark_bar().encode(\n",
    "#     alt.X('faction:N', bin=False),\n",
    "#     y='count()',\n",
    "#     tooltip='count()',\n",
    "#     color='class'\n",
    "# )\n",
    "\n",
    "# import seaborn as sns\n",
    "# sns.countplot(x='faction', data=df_ysera)"
   ]
  },
  {
   "cell_type": "markdown",
   "metadata": {},
   "source": [
    "# 2. Realm Data Extraction"
   ]
  },
  {
   "cell_type": "markdown",
   "metadata": {},
   "source": [
    "# 3. Region-Based Analysis"
   ]
  },
  {
   "cell_type": "markdown",
   "metadata": {},
   "source": [
    "## A. Faction Info"
   ]
  },
  {
   "cell_type": "markdown",
   "metadata": {},
   "source": [
    "## B. Gender Info"
   ]
  },
  {
   "cell_type": "markdown",
   "metadata": {},
   "source": [
    "## C. Class Info"
   ]
  },
  {
   "cell_type": "markdown",
   "metadata": {},
   "source": [
    "## D. Race Info"
   ]
  },
  {
   "cell_type": "markdown",
   "metadata": {},
   "source": [
    "## E. Level Info"
   ]
  },
  {
   "cell_type": "markdown",
   "metadata": {},
   "source": [
    "## F. Name Info"
   ]
  },
  {
   "cell_type": "markdown",
   "metadata": {},
   "source": [
    "# 4. Realm-Based Statistics"
   ]
  },
  {
   "cell_type": "markdown",
   "metadata": {},
   "source": [
    "## A. Faction Info\n",
    "\n",
    "#### 1. Horde Players vs Alliance Players"
   ]
  },
  {
   "cell_type": "markdown",
   "metadata": {},
   "source": [
    "## B. Gender Info"
   ]
  },
  {
   "cell_type": "markdown",
   "metadata": {},
   "source": [
    "## C. Class Info"
   ]
  },
  {
   "cell_type": "markdown",
   "metadata": {},
   "source": [
    "## D. Race Info"
   ]
  },
  {
   "cell_type": "markdown",
   "metadata": {},
   "source": [
    "## E. Level Info"
   ]
  },
  {
   "cell_type": "markdown",
   "metadata": {},
   "source": [
    "## F. Name Info"
   ]
  }
 ],
 "metadata": {
  "kernelspec": {
   "display_name": "Python 3",
   "language": "python",
   "name": "python3"
  },
  "language_info": {
   "codemirror_mode": {
    "name": "ipython",
    "version": 3
   },
   "file_extension": ".py",
   "mimetype": "text/x-python",
   "name": "python",
   "nbconvert_exporter": "python",
   "pygments_lexer": "ipython3",
   "version": "3.6.4"
  },
  "varInspector": {
   "cols": {
    "lenName": 16,
    "lenType": 16,
    "lenVar": 40
   },
   "kernels_config": {
    "python": {
     "delete_cmd_postfix": "",
     "delete_cmd_prefix": "del ",
     "library": "var_list.py",
     "varRefreshCmd": "print(var_dic_list())"
    },
    "r": {
     "delete_cmd_postfix": ") ",
     "delete_cmd_prefix": "rm(",
     "library": "var_list.r",
     "varRefreshCmd": "cat(var_dic_list()) "
    }
   },
   "types_to_exclude": [
    "module",
    "function",
    "builtin_function_or_method",
    "instance",
    "_Feature"
   ],
   "window_display": false
  }
 },
 "nbformat": 4,
 "nbformat_minor": 2
}
